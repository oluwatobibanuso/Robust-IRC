{
 "metadata": {
  "language_info": {
   "codemirror_mode": {
    "name": "ipython",
    "version": 3
   },
   "file_extension": ".py",
   "mimetype": "text/x-python",
   "name": "python",
   "nbconvert_exporter": "python",
   "pygments_lexer": "ipython3",
   "version": "3.8.8"
  },
  "orig_nbformat": 4,
  "kernelspec": {
   "name": "python3",
   "display_name": "Python 3.8.8 64-bit ('base': conda)"
  },
  "interpreter": {
   "hash": "b3ba2566441a7c06988d0923437866b63cedc61552a5af99d1f4fb67d367b25f"
  }
 },
 "nbformat": 4,
 "nbformat_minor": 2,
 "cells": [
  {
   "cell_type": "code",
   "execution_count": 2,
   "metadata": {},
   "outputs": [],
   "source": [
    "import os\n",
    "import numpy as np \n",
    "import cvxpy as cp \n",
    "import scipy as sc \n",
    "import control as ctrl "
   ]
  },
  {
   "source": [
    "f(a)=\\int_\\infty^0 \\frac{1}{a+2} \\mathrm{d}a\n"
   ],
   "cell_type": "markdown",
   "metadata": {}
  },
  {
   "source": [
    "<math xmlns=\"http://www.w3.org/1998/Math/MathML\" display=\"block\">\n",
    "  <mi>f</mi>\n",
    "  <mo stretchy=\"false\">(</mo>\n",
    "  <mi>a</mi>\n",
    "  <mo stretchy=\"false\">)</mo>\n",
    "  <mo>=</mo>\n",
    "  <msubsup>\n",
    "    <mo>&#x222B;<!-- ∫ --></mo>\n",
    "    <mi mathvariant=\"normal\">&#x221E;<!-- ∞ --></mi>\n",
    "    <mn>0</mn>\n",
    "  </msubsup>\n",
    "  <mfrac>\n",
    "    <mn>1</mn>\n",
    "    <mrow>\n",
    "      <mi>a</mi>\n",
    "      <mo>+</mo>\n",
    "      <mn>2</mn>\n",
    "    </mrow>\n",
    "  </mfrac>\n",
    "  <mrow class=\"MJX-TeXAtom-ORD\">\n",
    "    <mi mathvariant=\"normal\">d</mi>\n",
    "  </mrow>\n",
    "  <mi>a</mi>\n",
    "</math>"
   ],
   "cell_type": "markdown",
   "metadata": {}
  }
 ]
}